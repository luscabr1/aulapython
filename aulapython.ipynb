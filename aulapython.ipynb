{
  "nbformat": 4,
  "nbformat_minor": 0,
  "metadata": {
    "colab": {
      "name": "aulapython.ipynb",
      "provenance": [],
      "authorship_tag": "ABX9TyMLFiX0mdWLXT4YUwzN77+V",
      "include_colab_link": true
    },
    "kernelspec": {
      "name": "python3",
      "display_name": "Python 3"
    }
  },
  "cells": [
    {
      "cell_type": "markdown",
      "metadata": {
        "id": "view-in-github",
        "colab_type": "text"
      },
      "source": [
        "<a href=\"https://colab.research.google.com/github/luscabr1/aulapython/blob/master/aulapython.ipynb\" target=\"_parent\"><img src=\"https://colab.research.google.com/assets/colab-badge.svg\" alt=\"Open In Colab\"/></a>"
      ]
    },
    {
      "cell_type": "code",
      "metadata": {
        "id": "T185rogE7gYC",
        "colab_type": "code",
        "colab": {
          "base_uri": "https://localhost:8080/",
          "height": 34
        },
        "outputId": "43597b41-33c5-40a1-d91c-58f63d32aad7"
      },
      "source": [
        "'''Var1 = 'Texto 1'\n",
        "Var2 = 50\n",
        "Var3 = 100/11\n",
        "print( type(Var1) )\n",
        "print( type(Var2) )\n",
        "print( type(Var3) )'''\n",
        "\n",
        "'''MeuTexto1 = 'Palavras A'\n",
        "MeuTexto2 = \"Palavras B\"\n",
        "print(MeuTexto1,MeuTexto2)'''\n",
        "'''Frase = 'lucassantos'\n",
        "print(Frase[2:7])'''\n",
        "'''tx1 = 'IESB'\n",
        "tx2 = 'O' + tx1[1:]\n",
        "print(tx2)'''\n",
        "'''frase = 'vasco é gigante'\n",
        "fraseSeparada = frase.split()\n",
        "print(fraseSeparada)'''\n",
        "\n",
        "MeusCelulares = 'Meus celulares foram: {}, {}, {}'\n",
        "Celular0 = 'redmi2'\n",
        "Celular1 = 'mi5s'\n",
        "Celular2 = 'mi note 10 lite'\n",
        "\n",
        "print( MeusCelulares.format(Celular0, Celular1, Celular2, Celular2) )\n",
        "\n",
        "\n",
        "\n",
        "#aspas simples iguais a duplas"
      ],
      "execution_count": 16,
      "outputs": [
        {
          "output_type": "stream",
          "text": [
            "Meus celulares foram: redmi2, mi5s, mi note 10 lite\n"
          ],
          "name": "stdout"
        }
      ]
    }
  ]
}