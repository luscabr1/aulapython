{
  "nbformat": 4,
  "nbformat_minor": 0,
  "metadata": {
    "colab": {
      "name": "aula4.ipynb",
      "provenance": [],
      "authorship_tag": "ABX9TyNtGGSL3Sd/VcDv6DjVZaIt",
      "include_colab_link": true
    },
    "kernelspec": {
      "name": "python3",
      "display_name": "Python 3"
    }
  },
  "cells": [
    {
      "cell_type": "markdown",
      "metadata": {
        "id": "view-in-github",
        "colab_type": "text"
      },
      "source": [
        "<a href=\"https://colab.research.google.com/github/luscabr1/aulapython/blob/master/aula4.ipynb\" target=\"_parent\"><img src=\"https://colab.research.google.com/assets/colab-badge.svg\" alt=\"Open In Colab\"/></a>"
      ]
    },
    {
      "cell_type": "code",
      "metadata": {
        "id": "WpciqIrdBb9q",
        "colab_type": "code",
        "colab": {}
      },
      "source": [
        " '''L2 = [[1, 3, 5, 7, 9], [2, 4, 6, 8, 10]]\n",
        " print(L2[0][3])\n",
        " print(L2[1][4])\n",
        " \n",
        "'''Dic2 = {'Carne':3.99, 'Carne':4.99, 'Carne':2.99, 4:2, 'Carne':1.99 }\n",
        "print(Dic2['Carne']) # jeito errado de usar'''\n",
        "\n",
        "\n",
        "'''Dic3 = {'L1':['Artur', 'Henrique'], 'L2':['Marcus', 'Gabriel']}\n",
        "print(Dic3['L1'][0])\n",
        "print(Dic3['L1'][1])\n",
        "print(Dic3['L2'][0])\n",
        "print(Dic3['L2'][1])'''\n",
        "\n",
        "'''Dic4 = {'L1':{'Func1':'Artur', 'Func2':'Henrique'}, 'L2':{'Func1':'Joao', 'Func2':'enzo'} }\n",
        "\n",
        "print(Dic4['L1']['Func1'])\n",
        "print(Dic4['L1']['Func2'])\n",
        "print(Dic4['L2']['Func1'])\n",
        "print(Dic4['L2']['Func2'])'''\n",
        "\n",
        "\n",
        "# tuplas valores sao imutaveis\n",
        "T1 = (2, 3, 4, 5, 6, 7, 8, 9, 10, 11, 12, 13)\n",
        "L1 = [2, 3, 4, 5, 6, 7, 8, 9, 10, 11, 12, 13]\n",
        "L1[0] = 1000\n",
        "print(L1)\n",
        "\n",
        "'''T1[0] = 1000\n",
        "print(T1)# da erro'''\n",
        "\n",
        "\n",
        "\n",
        "\n",
        "\n",
        "\n"
      ],
      "execution_count": null,
      "outputs": []
    }
  ]
}